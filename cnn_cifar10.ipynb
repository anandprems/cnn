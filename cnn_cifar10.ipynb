{
 "cells": [
  {
   "cell_type": "code",
   "execution_count": 1,
   "metadata": {},
   "outputs": [],
   "source": [
    "#importing basic libraries\n",
    "import tensorflow as tf\n",
    "import matplotlib.pyplot as plt"
   ]
  },
  {
   "cell_type": "code",
   "execution_count": 2,
   "metadata": {},
   "outputs": [],
   "source": [
    "#importing default dataset\n",
    "from tensorflow.keras.datasets import cifar10"
   ]
  },
  {
   "cell_type": "code",
   "execution_count": 3,
   "metadata": {},
   "outputs": [
    {
     "name": "stdout",
     "output_type": "stream",
     "text": [
      "Downloading data from https://www.cs.toronto.edu/~kriz/cifar-10-python.tar.gz\n",
      "170500096/170498071 [==============================] - 34s 0us/step\n"
     ]
    }
   ],
   "source": [
    "#loading dataset\n",
    "# setting class names from dataset\n",
    "class_names=['airplane','automobile','bird','cat','deer','dog','frog','horse','ship','truck']\n",
    "\n",
    "#loading the dataset\n",
    "(x_train,y_train),(x_test,y_test)=cifar10.load_data()"
   ]
  },
  {
   "cell_type": "code",
   "execution_count": 4,
   "metadata": {},
   "outputs": [
    {
     "data": {
      "text/plain": [
       "(50000, 32, 32, 3)"
      ]
     },
     "execution_count": 4,
     "metadata": {},
     "output_type": "execute_result"
    }
   ],
   "source": [
    "#normalizing train data\n",
    "x_train=x_train/255.0\n",
    "x_train.shape"
   ]
  },
  {
   "cell_type": "code",
   "execution_count": 5,
   "metadata": {},
   "outputs": [
    {
     "data": {
      "text/plain": [
       "(10000, 32, 32, 3)"
      ]
     },
     "execution_count": 5,
     "metadata": {},
     "output_type": "execute_result"
    }
   ],
   "source": [
    "#normalizing test data\n",
    "x_test=x_test/255.0\n",
    "x_test.shape"
   ]
  },
  {
   "cell_type": "code",
   "execution_count": 6,
   "metadata": {},
   "outputs": [
    {
     "data": {
      "text/plain": [
       "<matplotlib.image.AxesImage at 0x12e375d1640>"
      ]
     },
     "execution_count": 6,
     "metadata": {},
     "output_type": "execute_result"
    },
    {
     "data": {
      "image/png": "[encoded data removed]",
      "text/plain": [
       "<Figure size 432x288 with 1 Axes>"
      ]
     },
     "metadata": {
      "needs_background": "light"
     },
     "output_type": "display_data"
    }
   ],
   "source": [
    "#random check dataset\n",
    "plt.imshow(x_test[222])"
   ]
  },
  {
   "cell_type": "code",
   "execution_count": 7,
   "metadata": {},
   "outputs": [],
   "source": [
    "#Building CNN model\n",
    "cnn_model=tf.keras.models.Sequential()\n",
    "\n",
    "# First Layer\n",
    "cnn_model.add(tf.keras.layers.Conv2D(filters=32,kernel_size=3,padding=\"same\", activation=\"relu\", input_shape=[32,32,3]))\n",
    "\n",
    "# Second Layer\n",
    "cnn_model.add(tf.keras.layers.Conv2D(filters=32,kernel_size=3,padding=\"same\", activation=\"relu\"))\n",
    "\n",
    "# Max Pooling Layer\n",
    "cnn_model.add(tf.keras.layers.MaxPool2D(pool_size=2,strides=2,padding='valid'))\n",
    "\n",
    "# Third Layer\n",
    "cnn_model.add(tf.keras.layers.Conv2D(filters=64,kernel_size=3,padding=\"same\", activation=\"relu\"))\n",
    "\n",
    "# Fourth Layer\n",
    "cnn_model.add(tf.keras.layers.Conv2D(filters=64,kernel_size=3,padding=\"same\", activation=\"relu\"))\n",
    "\n",
    "# Max Pooling Layer\n",
    "cnn_model.add(tf.keras.layers.MaxPool2D(pool_size=2,strides=2,padding='valid'))\n",
    "\n",
    "# fifth Layer\n",
    "cnn_model.add(tf.keras.layers.Conv2D(filters=128,kernel_size=3,padding=\"same\", activation=\"relu\"))\n",
    "\n",
    "# Sixth Layer\n",
    "cnn_model.add(tf.keras.layers.Conv2D(filters=128,kernel_size=3,padding=\"same\", activation=\"relu\"))\n",
    "\n",
    "# Max Pooling Layer\n",
    "cnn_model.add(tf.keras.layers.MaxPool2D(pool_size=2,strides=2,padding='valid'))\n",
    "\n",
    "# Flattening Layer\n",
    "cnn_model.add(tf.keras.layers.Flatten())\n",
    "\n",
    "# Droput Layer\n",
    "cnn_model.add(tf.keras.layers.Dropout(0.5,noise_shape=None,seed=None))\n",
    "\n",
    "# Adding the first fully connected layer\n",
    "cnn_model.add(tf.keras.layers.Dense(units=128,activation='relu'))\n",
    "\n",
    "# Output Layer\n",
    "cnn_model.add(tf.keras.layers.Dense(units=10,activation='softmax'))"
   ]
  },
  {
   "cell_type": "code",
   "execution_count": 8,
   "metadata": {},
   "outputs": [
    {
     "name": "stdout",
     "output_type": "stream",
     "text": [
      "Model: \"sequential\"\n",
      "_________________________________________________________________\n",
      "Layer (type)                 Output Shape              Param #   \n",
      "=================================================================\n",
      "conv2d (Conv2D)              (None, 32, 32, 32)        896       \n",
      "_________________________________________________________________\n",
      "conv2d_1 (Conv2D)            (None, 32, 32, 32)        9248      \n",
      "_________________________________________________________________\n",
      "max_pooling2d (MaxPooling2D) (None, 16, 16, 32)        0         \n",
      "_________________________________________________________________\n",
      "conv2d_2 (Conv2D)            (None, 16, 16, 64)        18496     \n",
      "_________________________________________________________________\n",
      "conv2d_3 (Conv2D)            (None, 16, 16, 64)        36928     \n",
      "_________________________________________________________________\n",
      "max_pooling2d_1 (MaxPooling2 (None, 8, 8, 64)          0         \n",
      "_________________________________________________________________\n",
      "conv2d_4 (Conv2D)            (None, 8, 8, 128)         73856     \n",
      "_________________________________________________________________\n",
      "conv2d_5 (Conv2D)            (None, 8, 8, 128)         147584    \n",
      "_________________________________________________________________\n",
      "max_pooling2d_2 (MaxPooling2 (None, 4, 4, 128)         0         \n",
      "_________________________________________________________________\n",
      "flatten (Flatten)            (None, 2048)              0         \n",
      "_________________________________________________________________\n",
      "dropout (Dropout)            (None, 2048)              0         \n",
      "_________________________________________________________________\n",
      "dense (Dense)                (None, 128)               262272    \n",
      "_________________________________________________________________\n",
      "dense_1 (Dense)              (None, 10)                1290      \n",
      "=================================================================\n",
      "Total params: 550,570\n",
      "Trainable params: 550,570\n",
      "Non-trainable params: 0\n",
      "_________________________________________________________________\n"
     ]
    }
   ],
   "source": [
    "cnn_model.summary()"
   ]
  },
  {
   "cell_type": "code",
   "execution_count": 9,
   "metadata": {},
   "outputs": [],
   "source": [
    "#Model -compiling\n",
    "cnn_model.compile(loss=\"sparse_categorical_crossentropy\", optimizer=\"Adam\", metrics=[\"sparse_categorical_accuracy\"])"
   ]
  },
  {
   "cell_type": "code",
   "execution_count": 10,
   "metadata": {},
   "outputs": [
    {
     "name": "stdout",
     "output_type": "stream",
     "text": [
      "Epoch 1/15\n",
      "1563/1563 [==============================] - 115s 73ms/step - loss: 1.8392 - sparse_categorical_accuracy: 0.3107\n",
      "Epoch 2/15\n",
      "1563/1563 [==============================] - 115s 73ms/step - loss: 1.1402 - sparse_categorical_accuracy: 0.5918\n",
      "Epoch 3/15\n",
      "1563/1563 [==============================] - 115s 74ms/step - loss: 0.9228 - sparse_categorical_accuracy: 0.6776\n",
      "Epoch 4/15\n",
      "1563/1563 [==============================] - 114s 73ms/step - loss: 0.7929 - sparse_categorical_accuracy: 0.7173\n",
      "Epoch 5/15\n",
      "1563/1563 [==============================] - 115s 74ms/step - loss: 0.7003 - sparse_categorical_accuracy: 0.7536\n",
      "Epoch 6/15\n",
      "1563/1563 [==============================] - 116s 74ms/step - loss: 0.6416 - sparse_categorical_accuracy: 0.7737\n",
      "Epoch 7/15\n",
      "1563/1563 [==============================] - 118s 75ms/step - loss: 0.5809 - sparse_categorical_accuracy: 0.7933\n",
      "Epoch 8/15\n",
      "1563/1563 [==============================] - 119s 76ms/step - loss: 0.5507 - sparse_categorical_accuracy: 0.8052\n",
      "Epoch 9/15\n",
      "1563/1563 [==============================] - 121s 78ms/step - loss: 0.5138 - sparse_categorical_accuracy: 0.8182\n",
      "Epoch 10/15\n",
      "1563/1563 [==============================] - 117s 75ms/step - loss: 0.4861 - sparse_categorical_accuracy: 0.8290\n",
      "Epoch 11/15\n",
      "1563/1563 [==============================] - 116s 74ms/step - loss: 0.4568 - sparse_categorical_accuracy: 0.8391\n",
      "Epoch 12/15\n",
      "1563/1563 [==============================] - 116s 74ms/step - loss: 0.4429 - sparse_categorical_accuracy: 0.8455\n",
      "Epoch 13/15\n",
      "1563/1563 [==============================] - 119s 76ms/step - loss: 0.4242 - sparse_categorical_accuracy: 0.8517\n",
      "Epoch 14/15\n",
      "1563/1563 [==============================] - 128s 82ms/step - loss: 0.3985 - sparse_categorical_accuracy: 0.8583\n",
      "Epoch 15/15\n",
      "1563/1563 [==============================] - 127s 81ms/step - loss: 0.3828 - sparse_categorical_accuracy: 0.8629\n"
     ]
    },
    {
     "data": {
      "text/plain": [
       "<tensorflow.python.keras.callbacks.History at 0x12e3e882640>"
      ]
     },
     "execution_count": 10,
     "metadata": {},
     "output_type": "execute_result"
    }
   ],
   "source": [
    "#Model - training\n",
    "cnn_model.fit(x_train,y_train,epochs=15)"
   ]
  },
  {
   "cell_type": "code",
   "execution_count": 11,
   "metadata": {},
   "outputs": [
    {
     "name": "stdout",
     "output_type": "stream",
     "text": [
      "313/313 [==============================] - 5s 16ms/step - loss: 0.6533 - sparse_categorical_accuracy: 0.7946\n",
      "Test accuracy: 0.7946000099182129\n"
     ]
    }
   ],
   "source": [
    "#Accuracy and loss\n",
    "test_loss, test_accuracy = cnn_model.evaluate(x_test, y_test)\n",
    "print(\"Test accuracy: {}\".format(test_accuracy))"
   ]
  }
 ],
 "metadata": {
  "kernelspec": {
   "display_name": "Python 3",
   "language": "python",
   "name": "python3"
  },
  "language_info": {
   "codemirror_mode": {
    "name": "ipython",
    "version": 3
   },
   "file_extension": ".py",
   "mimetype": "text/x-python",
   "name": "python",
   "nbconvert_exporter": "python",
   "pygments_lexer": "ipython3",
   "version": "3.8.3"
  }
 },
 "nbformat": 4,
 "nbformat_minor": 4
}
